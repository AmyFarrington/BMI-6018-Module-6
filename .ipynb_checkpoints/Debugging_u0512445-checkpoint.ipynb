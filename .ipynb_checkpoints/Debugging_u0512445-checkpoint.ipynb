{
 "cells": [
  {
   "cell_type": "code",
   "execution_count": 5,
   "id": "5c6003e0",
   "metadata": {},
   "outputs": [
    {
     "name": "stdout",
     "output_type": "stream",
     "text": [
      "We are making an error in the loop.\n",
      "The correct answer is [2, 3, 4].\n",
      "[1, 1, 1]\n"
     ]
    }
   ],
   "source": [
    "#1.a\n",
    "#Using the print() function only, get the wrong_add_function to print out where\n",
    "#it is making a mistake, given the expected output for ex, \"we are making an error \n",
    "#in the loop\", which you would put near the loop. \n",
    "#Structure the print() statement to show what the expected output ought to be\n",
    "#via f-strings: ie \"The correct answer is supposed to be: [...]\".\n",
    "\n",
    "def wrong_add_function(arg1,arg2):\n",
    "    arg1_index=0\n",
    "    while arg1_index < len(arg1):\n",
    "        arg_2_sum = 0\n",
    "        for arg2_elements in arg2:\n",
    "            arg_2_sum = sum([arg1[arg1_index]+i for i in arg2])  \n",
    "        arg1[arg1_index]=arg_2_sum\n",
    "        correct_ans=[2,3,4]  \n",
    "        arg1_index+=1\n",
    "        print(f\"We are making an error in the loop.\")\n",
    "        print(f\"The correct answer is {correct_ans}.\")\n",
    "        break\n",
    "    print(arg2)\n",
    "    return arg1\n",
    "\n",
    "\n",
    "arg1 = [1,2,3]\n",
    "arg2 = [1,1,1]\n",
    "\n",
    "wrong_add_function(arg1, arg2)\n",
    "\n",
    "correct_ans = [2,3,4] \n"
   ]
  },
  {
   "cell_type": "code",
   "execution_count": 26,
   "id": "606a500b",
   "metadata": {
    "scrolled": true
   },
   "outputs": [
    {
     "data": {
      "text/plain": [
       "[2, 3, 4]"
      ]
     },
     "execution_count": 26,
     "metadata": {},
     "output_type": "execute_result"
    }
   ],
   "source": [
    "# 1.b\n",
    "# Then, changing as little as possible, modify the function, using the same \n",
    "# general structure to output the correct answer. Call this new function \n",
    "# correct_add_function() \n",
    "\n",
    "def correct_add_function(arg1,arg2):\n",
    "    arg1_index=0\n",
    "    while arg1_index < len(arg1):\n",
    "        arg_2_sum = 0\n",
    "        for arg2_elements in arg2:\n",
    "            #commented code below gives [4,5,6] \n",
    "            #arg_2_sum = (arg1[arg1_index]+ sum(arg2))\n",
    "            arg_2_sum = (arg1[arg1_index]+ arg2[arg1_index])\n",
    "        arg1[arg1_index]=arg_2_sum\n",
    "        arg1_index+=1\n",
    "    return arg1\n",
    "\n",
    "\n",
    "arg1 = [1,2,3]\n",
    "arg2 = [1,1,1]\n",
    "\n",
    "correct_add_function(arg1, arg2)\n",
    "\n",
    "    \n",
    "    "
   ]
  },
  {
   "cell_type": "code",
   "execution_count": 33,
   "id": "b01201ce",
   "metadata": {},
   "outputs": [],
   "source": [
    "# 2.a\n",
    "# Update the numeric section of the function with your changes from 1 for both \n",
    "# 2.b and 2.c\n",
    "\n",
    "def wrong_add_function(arg1,arg2):  \n",
    "    #numeric section\n",
    "    if sum([type(i)==int for i in arg1])==len(arg1) and \\\n",
    "        sum([type(i)==int for i in arg2])==len(arg2):\n",
    "            arg1_index=0\n",
    "            while arg1_index < len(arg1):\n",
    "                arg_2_sum = 0\n",
    "                for arg2_elements in arg2:\n",
    "                    #Commented code below gives [2,3,4]\n",
    "                    #arg_2_sum = (arg1[arg1_index]+ arg2[arg1_index])\n",
    "                    arg_2_sum = (arg1[arg1_index]+ sum(arg2))\n",
    "                arg1[arg1_index]=arg_2_sum  \n",
    "                arg1_index+=1\n",
    "            return arg1\n",
    "   #string section\n",
    "    elif sum([type(i)==str for i in arg1])==len(arg1) and \\\n",
    "        sum([type(i)==str for i in arg2])==len(arg2):\n",
    "            arg1_index=0\n",
    "            while arg1_index < len(arg1):\n",
    "                arg_2_sum = ''\n",
    "                for arg2_elements in arg2:\n",
    "                    arg_2_sum += arg2_elements\n",
    "                arg1[arg1_index]=arg1[arg1_index]+str(arg_2_sum)\n",
    "                arg1_index+=1\n",
    "            return arg1\n",
    "arg_str_1=['1','2','3']\n",
    "arg_str_2=['1','1', 1]\n",
    "\n",
    "wrong_add_function(arg_str_1,arg_str_2)"
   ]
  },
  {
   "cell_type": "code",
   "execution_count": 6,
   "id": "f2c924ce",
   "metadata": {},
   "outputs": [
    {
     "name": "stdout",
     "output_type": "stream",
     "text": [
      "Your input ['1', '1', 1] at index 2 is not of the expected type.\n"
     ]
    }
   ],
   "source": [
    "# 2.b\n",
    "# Without modifying the string section code itself or the input directly, \n",
    "# write a try, except block that catches the issue with the input below and \n",
    "# returns an error message to the user, in case users give invalid inputs,\n",
    "# (for example an input of [\"5\",\"2\", 5])\n",
    "# : \"Your input argument [1 or 2] at element [n]\n",
    "# is not of the expected type. Please change this and rerun. Name this function \n",
    "# exception_add_function()\n",
    "\n",
    "def exception_add_function(arg1,arg2):  \n",
    "    #numeric section\n",
    "    if sum([type(i)==int for i in arg1])==len(arg1) and \\\n",
    "        sum([type(i)==int for i in arg2])==len(arg2):\n",
    "        arg1_index=0\n",
    "        while arg1_index < len(arg1):\n",
    "            arg_2_sum = 0\n",
    "            for arg2_elements in arg2:\n",
    "                #Commented code below gives [2,3,4]\n",
    "                #arg_2_sum = (arg1[arg1_index]+ arg2[arg1_index])\n",
    "                arg_2_sum = (arg1[arg1_index]+ sum(arg2))\n",
    "            arg1[arg1_index]=arg_2_sum  \n",
    "            arg1_index+=1\n",
    "        return arg1\n",
    "    #string section\n",
    "    #I replaced \"elif\" with \"try\" here to force an exception\n",
    "    try:\n",
    "        sum([type(i)==str for i in arg1])==len(arg1) and \\\n",
    "        sum([type(i)==str for i in arg2])==len(arg2)\n",
    "        arg1_index=0\n",
    "        while arg1_index < len(arg1):\n",
    "            arg_2_sum = ''\n",
    "            for arg2_elements in arg2:\n",
    "                arg_2_sum += arg2_elements\n",
    "            arg1[arg1_index]=arg1[arg1_index]+str(arg_2_sum)\n",
    "            arg1_index+=1\n",
    "        return arg1\n",
    "    except:\n",
    "        for index, character in enumerate(arg1):\n",
    "            if character == isinstance(index, int):\n",
    "                print(f\"Your input {arg1} at index {index} is not of the expected type.\")\n",
    "        for index, character in enumerate(arg2):\n",
    "            if character == isinstance(index, int):\n",
    "                print(f\"Your input {arg2} at index {index} is not of the expected type.\")                \n",
    "     \n",
    "arg_str_1=['1','2','3']\n",
    "arg_str_2=['1','1', 1]\n",
    "\n",
    "exception_add_function(arg_str_1,arg_str_2)\n"
   ]
  },
  {
   "cell_type": "code",
   "execution_count": 19,
   "id": "edf32c97",
   "metadata": {},
   "outputs": [
    {
     "data": {
      "text/plain": [
       "['1115', '2115', '3115']"
      ]
     },
     "execution_count": 19,
     "metadata": {},
     "output_type": "execute_result"
    }
   ],
   "source": [
    "# 2.c\n",
    "# Without modifying the string section code itself or the input directly, \n",
    "# write a try, except block that catches the issue with the input below and \n",
    "# gets it to process via the string section. IE, do not, outside the function,\n",
    "# change the values of arg_str_1 or arg_str_2. Name this function \n",
    "# correction_add_function(), i.e you will not be updating the wrong_add_function,\n",
    "# you will simply handle the error of wrong inputs in a seperate function, you want\n",
    "# the wrong_add_function to output its current result you are only bolstering the \n",
    "# function for edge cases .\n",
    "\n",
    "#correction_add_function will typecast list items to strings \n",
    "def correction_add_function(arg1, arg2):\n",
    "    arg1 =[str(i) for i in arg1]\n",
    "    arg2 =[str(i) for i in arg2]\n",
    "    for i in arg2:\n",
    "        sum([type(i)==str for i in arg1])==len(arg1) and \\\n",
    "        sum([type(i)==str for i in arg2])==len(arg2)\n",
    "        arg1_index=0\n",
    "        while arg1_index < len(arg1):\n",
    "            arg_2_sum = ''\n",
    "            for arg2_elements in arg2:\n",
    "                arg_2_sum += arg2_elements\n",
    "            arg1[arg1_index]=arg1[arg1_index]+str(arg_2_sum)\n",
    "            arg1_index+=1\n",
    "        return arg1\n",
    "\n",
    "def wrong_add_function(arg1,arg2):  \n",
    "    #numeric section\n",
    "    if sum([type(i)==int for i in arg1])==len(arg1) and \\\n",
    "        sum([type(i)==int for i in arg2])==len(arg2):\n",
    "        arg1_index=0\n",
    "        while arg1_index < len(arg1):\n",
    "            arg_2_sum = 0\n",
    "            for arg2_elements in arg2:\n",
    "                #Commented code below gives [2,3,4]\n",
    "                #arg_2_sum = (arg1[arg1_index]+ arg2[arg1_index])\n",
    "                arg_2_sum = (arg1[arg1_index]+ sum(arg2))\n",
    "            arg1[arg1_index]=arg_2_sum  \n",
    "            arg1_index+=1\n",
    "        return arg1\n",
    "    #string section\n",
    "    #I replaced \"elif\" with \"try\" here to force an exception\n",
    "    #Except will process the list through the correction_add_function if there is an exception\n",
    "    try:\n",
    "        sum([type(i)==str for i in arg1])==len(arg1) and \\\n",
    "        sum([type(i)==str for i in arg2])==len(arg2)\n",
    "        arg1_index=0\n",
    "        while arg1_index < len(arg1):\n",
    "            arg_2_sum = ''\n",
    "            for arg2_elements in arg2:\n",
    "                arg_2_sum += arg2_elements\n",
    "            arg1[arg1_index]=arg1[arg1_index]+str(arg_2_sum)\n",
    "            arg1_index+=1\n",
    "        return arg1\n",
    "    except:\n",
    "        return correction_add_function(arg1,arg2)\n",
    "        \n",
    "            \n",
    "     \n",
    "arg_str_1=['1','2','3']\n",
    "arg_str_2=['1','1', 1]\n",
    "\n",
    "wrong_add_function(arg_str_1,arg_str_2)\n",
    "\n",
    "\n"
   ]
  },
  {
   "cell_type": "code",
   "execution_count": null,
   "id": "a8ea1d69",
   "metadata": {},
   "outputs": [],
   "source": []
  }
 ],
 "metadata": {
  "kernelspec": {
   "display_name": "Python 3 (ipykernel)",
   "language": "python",
   "name": "python3"
  },
  "language_info": {
   "codemirror_mode": {
    "name": "ipython",
    "version": 3
   },
   "file_extension": ".py",
   "mimetype": "text/x-python",
   "name": "python",
   "nbconvert_exporter": "python",
   "pygments_lexer": "ipython3",
   "version": "3.9.12"
  }
 },
 "nbformat": 4,
 "nbformat_minor": 5
}
